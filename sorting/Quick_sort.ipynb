{
 "cells": [
  {
   "cell_type": "code",
   "execution_count": 22,
   "metadata": {},
   "outputs": [],
   "source": [
    "def quick_sort(A, left, right):\n",
    "    if len(A) == 0 or left == right:\n",
    "        return A\n",
    "    split = partition(A, left, right)\n",
    "    if left <= split-1:\n",
    "        quick_sort(A, left, split-1)\n",
    "    if split+1 <= right:\n",
    "        quick_sort(A, split+1, right)\n",
    "\n",
    "def partition(A, left, right):\n",
    "    pivot = A[right]\n",
    "    split = left-1\n",
    "    for j in range(left, right):\n",
    "        if A[j] <= pivot:\n",
    "            swap(A, j, split+1)\n",
    "            split += 1\n",
    "    swap(A, right, split+1)\n",
    "    return split+1\n",
    "\n",
    "def swap(A, a, b):\n",
    "    t = A[a]\n",
    "    A[a] = A[b]\n",
    "    A[b] = t"
   ]
  },
  {
   "cell_type": "code",
   "execution_count": 29,
   "metadata": {},
   "outputs": [
    {
     "name": "stdout",
     "output_type": "stream",
     "text": [
      "[0, 1, 1, 2, 2, 2, 2, 3, 3, 3, 4, 4, 4, 4, 5, 5, 5, 6, 6, 6, 7, 7, 8, 8, 9]\n"
     ]
    }
   ],
   "source": [
    "A = [2,1,4,6,5,4,3,7,8,2,4,5,6,3,5,7,1,2,9,4,6,2,8,3,0]\n",
    "quick_sort(A, 0, len(A)-1)\n",
    "print A"
   ]
  },
  {
   "cell_type": "code",
   "execution_count": null,
   "metadata": {},
   "outputs": [],
   "source": []
  }
 ],
 "metadata": {
  "kernelspec": {
   "display_name": "Python 2",
   "language": "python",
   "name": "python2"
  },
  "language_info": {
   "codemirror_mode": {
    "name": "ipython",
    "version": 2
   },
   "file_extension": ".py",
   "mimetype": "text/x-python",
   "name": "python",
   "nbconvert_exporter": "python",
   "pygments_lexer": "ipython2",
   "version": "2.7.12+"
  }
 },
 "nbformat": 4,
 "nbformat_minor": 2
}
