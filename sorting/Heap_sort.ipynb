{
 "cells": [
  {
   "cell_type": "code",
   "execution_count": 1,
   "metadata": {},
   "outputs": [],
   "source": [
    "def left_child(i):\n",
    "    return(2*i +1)\n",
    "def right_child(i):\n",
    "    return(2*i +2)\n",
    "def parent(i):\n",
    "    return((i-1)/2)"
   ]
  },
  {
   "cell_type": "code",
   "execution_count": 28,
   "metadata": {},
   "outputs": [],
   "source": [
    "def max_heapify(A, i, heap_size):\n",
    "    l = left_child(i)\n",
    "    r = right_child(i)\n",
    "    if l < heap_size and A[l] > A[i]:\n",
    "        largest = l\n",
    "    else:\n",
    "        largest = i\n",
    "    if r < heap_size and A[r] > A[largest]:\n",
    "        largest = r\n",
    "    if largest != i:\n",
    "        temp = A[i]\n",
    "        A[i] = A[largest]\n",
    "        A[largest] = temp\n",
    "        max_heapify(A, largest, heap_size)"
   ]
  },
  {
   "cell_type": "code",
   "execution_count": 29,
   "metadata": {},
   "outputs": [],
   "source": [
    "def build_max_heap(A):\n",
    "    heap_size = len(A)\n",
    "    i = (heap_size -1)/2\n",
    "    while i >= 0:\n",
    "        max_heapify(A, i, heap_size)\n",
    "        i -= 1"
   ]
  },
  {
   "cell_type": "code",
   "execution_count": 30,
   "metadata": {},
   "outputs": [],
   "source": [
    "def Heapsort(A):\n",
    "    build_max_heap(A)\n",
    "    heap_size = len(A)\n",
    "    i = len(A)-1\n",
    "    while i > 0:\n",
    "        temp = A[0]\n",
    "        A[0] = A[i]\n",
    "        A[i] = temp\n",
    "        heap_size -= 1\n",
    "        max_heapify(A, 0, heap_size)\n",
    "        i -= 1"
   ]
  },
  {
   "cell_type": "code",
   "execution_count": 31,
   "metadata": {},
   "outputs": [
    {
     "name": "stdout",
     "output_type": "stream",
     "text": [
      "[0, 1, 2, 3, 4, 6, 7, 7, 8, 9]\n"
     ]
    }
   ],
   "source": [
    "A = [7,8,2,3,0,6,4,9,1,7]\n",
    "Heapsort(A)\n",
    "print A"
   ]
  },
  {
   "cell_type": "code",
   "execution_count": null,
   "metadata": {},
   "outputs": [],
   "source": []
  }
 ],
 "metadata": {
  "kernelspec": {
   "display_name": "Python 2",
   "language": "python",
   "name": "python2"
  },
  "language_info": {
   "codemirror_mode": {
    "name": "ipython",
    "version": 2
   },
   "file_extension": ".py",
   "mimetype": "text/x-python",
   "name": "python",
   "nbconvert_exporter": "python",
   "pygments_lexer": "ipython2",
   "version": "2.7.12+"
  }
 },
 "nbformat": 4,
 "nbformat_minor": 2
}
