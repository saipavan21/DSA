{
 "cells": [
  {
   "cell_type": "code",
   "execution_count": 5,
   "metadata": {},
   "outputs": [],
   "source": [
    "def merge_sort(A):\n",
    "    if len(A) == 1 or len(A) == 0:\n",
    "        return A\n",
    "    mid = len(A)/2\n",
    "    left_sorted = merge_sort(A[:mid])\n",
    "    right_sorted = merge_sort(A[mid:])\n",
    "    merged_array = merge(left_sorted, right_sorted)\n",
    "    return merged_array\n",
    "\n",
    "def merge(left_half, right_half):\n",
    "    left_p = 0\n",
    "    right_p = 0\n",
    "    output = []\n",
    "    while left_p < len(left_half) and right_p < len(right_half):\n",
    "        if left_half[left_p] <= right_half[right_p]:\n",
    "            output.append(left_half[left_p])\n",
    "            left_p += 1\n",
    "        else:\n",
    "            output.append(right_half[right_p])\n",
    "            right_p += 1\n",
    "    if left_p == len(left_half):\n",
    "        output = output + right_half[right_p:]\n",
    "    else:\n",
    "        output = output + left_half[left_p:]\n",
    "    \n",
    "    return output"
   ]
  },
  {
   "cell_type": "code",
   "execution_count": 11,
   "metadata": {},
   "outputs": [
    {
     "data": {
      "text/plain": [
       "[1]"
      ]
     },
     "execution_count": 11,
     "metadata": {},
     "output_type": "execute_result"
    }
   ],
   "source": [
    "A = [1]\n",
    "merge_sort(A)"
   ]
  },
  {
   "cell_type": "code",
   "execution_count": 37,
   "metadata": {},
   "outputs": [],
   "source": [
    "def merge_sort(A, left, right):\n",
    "    if len(A) == 0 or left == right:\n",
    "        return A\n",
    "    mid = left + ((right-left)/2)\n",
    "    merge_sort(A, left, mid)\n",
    "    merge_sort(A, mid+1, right)\n",
    "    merge(A, left,right,mid)\n",
    "\n",
    "def merge(A, left, right, mid):\n",
    "    left_half = A[left:mid+1]\n",
    "    right_half = A[mid+1:right+1]\n",
    "    left_p = 0\n",
    "    right_p = 0\n",
    "    i = left\n",
    "    while left_p < len(left_half) and right_p < len(right_half):\n",
    "        if left_half[left_p] <= right_half[right_p]:\n",
    "            A[i] = left_half[left_p]\n",
    "            left_p += 1\n",
    "        else:\n",
    "            A[i] = right_half[right_p]\n",
    "            right_p += 1\n",
    "        i += 1\n",
    "    if left_p == len(left_half):\n",
    "        while i < right:\n",
    "            A[i] = right_half[right_p]\n",
    "            i += 1\n",
    "            right_p += 1\n",
    "    else:\n",
    "        while i < right+1:\n",
    "            A[i] = left_half[left_p]\n",
    "            i += 1\n",
    "            left_p += 1\n",
    "    "
   ]
  },
  {
   "cell_type": "code",
   "execution_count": 38,
   "metadata": {
    "scrolled": true
   },
   "outputs": [
    {
     "name": "stdout",
     "output_type": "stream",
     "text": [
      "[0, 1, 1, 2, 2, 2, 2, 3, 3, 3, 4, 4, 4, 4, 5, 5, 5, 6, 6, 6, 7, 7, 8, 8, 9]\n"
     ]
    }
   ],
   "source": [
    "A = [2,1,4,6,5,4,3,7,8,2,4,5,6,3,5,7,1,2,9,4,6,2,8,3,0]\n",
    "merge_sort(A, 0, len(A)-1)\n",
    "print A"
   ]
  },
  {
   "cell_type": "code",
   "execution_count": 30,
   "metadata": {},
   "outputs": [
    {
     "data": {
      "text/plain": [
       "[2]"
      ]
     },
     "execution_count": 30,
     "metadata": {},
     "output_type": "execute_result"
    }
   ],
   "source": [
    "A[0:1]"
   ]
  },
  {
   "cell_type": "code",
   "execution_count": null,
   "metadata": {},
   "outputs": [],
   "source": []
  }
 ],
 "metadata": {
  "kernelspec": {
   "display_name": "Python 2",
   "language": "python",
   "name": "python2"
  },
  "language_info": {
   "codemirror_mode": {
    "name": "ipython",
    "version": 2
   },
   "file_extension": ".py",
   "mimetype": "text/x-python",
   "name": "python",
   "nbconvert_exporter": "python",
   "pygments_lexer": "ipython2",
   "version": "2.7.12+"
  }
 },
 "nbformat": 4,
 "nbformat_minor": 2
}
