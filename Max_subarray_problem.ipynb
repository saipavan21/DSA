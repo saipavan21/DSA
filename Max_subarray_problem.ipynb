{
 "cells": [
  {
   "cell_type": "code",
   "execution_count": 2,
   "metadata": {},
   "outputs": [],
   "source": [
    "def get_max_subarray(A, low, high):\n",
    "    if low == high:\n",
    "        return (low, high, A[low])\n",
    "    else:\n",
    "        mid = (low + high)/2\n",
    "        left_low, left_high, left_sum = get_max_subarray(A, low, mid)\n",
    "        right_low, right_high, right_sum = get_max_subarray(A, mid+1, high)\n",
    "        cross_low, cross_high, cross_sum = get_max_cross_subarray(A, low, mid, high)\n",
    "        max_sum = 0\n",
    "        if left_sum >= right_sum and left_sum >= cross_sum:\n",
    "            return (left_low, left_high, left_sum)\n",
    "        elif right_sum >= left_sum and right_sum >= cross_sum:\n",
    "            return (right_low, right_high, right_sum)\n",
    "        else:\n",
    "            return (cross_low, cross_high, cross_sum)\n"
   ]
  },
  {
   "cell_type": "code",
   "execution_count": 7,
   "metadata": {},
   "outputs": [],
   "source": [
    "def get_max_cross_subarray(A, low, mid, high):\n",
    "    left_cross_sum = -float('inf')\n",
    "    temp_sum = 0\n",
    "    i = mid\n",
    "    while i >= low:\n",
    "        temp_sum += A[i]\n",
    "        if temp_sum >= left_cross_sum:\n",
    "            left_cross_sum = temp_sum\n",
    "            max_left = i\n",
    "        i -= 1\n",
    "    \n",
    "    right_cross_sum = -float('inf')\n",
    "    temp_sum = 0\n",
    "    j = mid+1\n",
    "    while j <= high:\n",
    "        temp_sum += A[j]\n",
    "        if temp_sum >= right_cross_sum:\n",
    "            right_cross_sum = temp_sum\n",
    "            max_right = j\n",
    "        j += 1\n",
    "    \n",
    "    return (max_left, max_right, left_cross_sum+right_cross_sum)"
   ]
  },
  {
   "cell_type": "code",
   "execution_count": 8,
   "metadata": {},
   "outputs": [],
   "source": [
    "A = [13,-3,-25,20,-3,-16,-23,18,20,-7,12,-5,-22,15,-4,7]"
   ]
  },
  {
   "cell_type": "code",
   "execution_count": 9,
   "metadata": {},
   "outputs": [
    {
     "data": {
      "text/plain": [
       "(7, 10, 43)"
      ]
     },
     "execution_count": 9,
     "metadata": {},
     "output_type": "execute_result"
    }
   ],
   "source": [
    "get_max_subarray(A, 0, len(A)-1)"
   ]
  }
 ],
 "metadata": {
  "kernelspec": {
   "display_name": "Python 2",
   "language": "python",
   "name": "python2"
  },
  "language_info": {
   "codemirror_mode": {
    "name": "ipython",
    "version": 2
   },
   "file_extension": ".py",
   "mimetype": "text/x-python",
   "name": "python",
   "nbconvert_exporter": "python",
   "pygments_lexer": "ipython2",
   "version": "2.7.12+"
  }
 },
 "nbformat": 4,
 "nbformat_minor": 2
}
